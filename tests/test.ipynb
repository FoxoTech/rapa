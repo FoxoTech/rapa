{
 "cells": [
  {
   "cell_type": "markdown",
   "metadata": {},
   "source": [
    "# Tests\n",
    "1. Make sure that all of the original data exists in the new dataframe\n",
    "2. Make sure "
   ]
  },
  {
   "cell_type": "code",
   "execution_count": 1,
   "metadata": {},
   "outputs": [],
   "source": [
    "import rapa\n",
    "import pandas as pd\n",
    "import numpy as np\n",
    "import random\n",
    "from tqdm.notebook import tqdm\n",
    "import datarobot as dr"
   ]
  },
  {
   "cell_type": "code",
   "execution_count": 2,
   "metadata": {},
   "outputs": [
    {
     "name": "stdout",
     "output_type": "stream",
     "text": [
      "DataRobot API initiated with endpoint 'https://app.datarobot.com/api/v2'\n"
     ]
    }
   ],
   "source": [
    "rapa.utils.initialize_dr_api('tutorial', '../tutorials/data/dr-tokens.pkl')"
   ]
  },
  {
   "cell_type": "code",
   "execution_count": 11,
   "metadata": {},
   "outputs": [
    {
     "name": "stderr",
     "output_type": "stream",
     "text": [
      "/Users/joshuaschaaf/Documents/GitHub/rapa/rapa/utils.py:58: UserWarning: Returning the first of multiple projects with 'TUTORIAL': [Project(TUTORIAL_breast_cancer), Project(tutorial_depression), Project(tutorial_test_1000_1), Project(tutorial_test_1000), Project(tutorial_test_0), Project(tutorial_test)]\n",
      "  warn(f\"Returning the first of multiple projects with \\'{project}\\': {project_list}\")\n"
     ]
    }
   ],
   "source": [
    "bc_project = rapa.utils.find_project('TUTORIAL')\n",
    "model = rapa.utils.get_best_model(project=bc_project, metric='RMSE', highest=False)"
   ]
  },
  {
   "cell_type": "code",
   "execution_count": 18,
   "metadata": {},
   "outputs": [
    {
     "data": {
      "text/plain": [
       "'Regression'"
      ]
     },
     "execution_count": 18,
     "metadata": {},
     "output_type": "execute_result"
    }
   ],
   "source": [
    "dr.TARGET_TYPE.REGRESSION"
   ]
  },
  {
   "cell_type": "code",
   "execution_count": 10,
   "metadata": {},
   "outputs": [
    {
     "data": {
      "text/plain": [
       "{'validation': 0.99905,\n",
       " 'crossValidation': 0.9968639999999999,\n",
       " 'holdout': None,\n",
       " 'training': None,\n",
       " 'backtestingScores': None,\n",
       " 'backtesting': None}"
      ]
     },
     "execution_count": 10,
     "metadata": {},
     "output_type": "execute_result"
    }
   ],
   "source": [
    "bc_project.get_models()[0].metrics['AUC']"
   ]
  },
  {
   "cell_type": "code",
   "execution_count": 33,
   "metadata": {},
   "outputs": [],
   "source": [
    "project = bc_project\n",
    "featurelist_prefix = 'TEST_0.0.9'\n",
    "starred = False\n",
    "metric = 'AUC'\n",
    "fold = 'crossValidation'\n",
    "highest = True\n",
    "\n",
    "\n",
    "scores = []\n",
    "\n",
    "\n",
    "if featurelist_prefix == None: \n",
    "    featurelist_prefix = ''\n",
    "\n",
    "for model in project.get_models():\n",
    "    current_model_score = model.metrics[metric][fold] # get the score for the metric and fold\n",
    "\n",
    "    if model.featurelist_name.startswith(featurelist_prefix) and current_model_score: # if the model is scored in this fold, and it was created with the featurelist we are looking at\n",
    "        scores.append((current_model_score, model)) # add the model score and model object to a list"
   ]
  },
  {
   "cell_type": "code",
   "execution_count": 35,
   "metadata": {},
   "outputs": [
    {
     "data": {
      "text/plain": [
       "Model('Elastic-Net Classifier (L2 / Binomial Deviance)')"
      ]
     },
     "execution_count": 35,
     "metadata": {},
     "output_type": "execute_result"
    }
   ],
   "source": [
    "sorted(scores, key=lambda tup: tup[0], reverse=highest)[0][1] # sort by first item in the tuples"
   ]
  }
 ],
 "metadata": {
  "interpreter": {
   "hash": "15d1d4f8c2954fff1d3da98431dbef1005e87db545c641a7b60a75b16bf902c6"
  },
  "kernelspec": {
   "display_name": "Python 3.8.8 ('base')",
   "language": "python",
   "name": "python3"
  },
  "language_info": {
   "codemirror_mode": {
    "name": "ipython",
    "version": 3
   },
   "file_extension": ".py",
   "mimetype": "text/x-python",
   "name": "python",
   "nbconvert_exporter": "python",
   "pygments_lexer": "ipython3",
   "version": "3.8.8"
  },
  "orig_nbformat": 4
 },
 "nbformat": 4,
 "nbformat_minor": 2
}
